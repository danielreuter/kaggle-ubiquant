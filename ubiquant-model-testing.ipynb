{
 "cells": [
  {
   "cell_type": "code",
   "execution_count": 1,
   "id": "2a2e8710",
   "metadata": {
    "_cell_guid": "b1076dfc-b9ad-4769-8c92-a6c4dae69d19",
    "_uuid": "8f2839f25d086af736a60e9eeb907d3b93b6e0e5",
    "execution": {
     "iopub.execute_input": "2022-03-25T23:18:27.070505Z",
     "iopub.status.busy": "2022-03-25T23:18:27.068043Z",
     "iopub.status.idle": "2022-03-25T23:18:28.362299Z",
     "shell.execute_reply": "2022-03-25T23:18:28.361523Z",
     "shell.execute_reply.started": "2022-03-25T22:25:02.371246Z"
    },
    "papermill": {
     "duration": 1.312326,
     "end_time": "2022-03-25T23:18:28.362473",
     "exception": false,
     "start_time": "2022-03-25T23:18:27.050147",
     "status": "completed"
    },
    "tags": []
   },
   "outputs": [],
   "source": [
    "# This Python 3 environment comes with many helpful analytics libraries installed\n",
    "# It is defined by the kaggle/python Docker image: https://github.com/kaggle/docker-python\n",
    "# For example, here's several helpful packages to load\n",
    "\n",
    "import numpy as np # linear algebra\n",
    "import pandas as pd # data processing, CSV file I/O (e.g. pd.read_csv)\n",
    "import pickle\n",
    "import torch\n",
    "\n",
    "import torch\n",
    "import torch.nn as nn"
   ]
  },
  {
   "cell_type": "markdown",
   "id": "21d1f46c",
   "metadata": {
    "papermill": {
     "duration": 0.008639,
     "end_time": "2022-03-25T23:18:28.380405",
     "exception": false,
     "start_time": "2022-03-25T23:18:28.371766",
     "status": "completed"
    },
    "tags": []
   },
   "source": [
    "# Models\n",
    "\n",
    "Version 1:\n",
    "* LGBM\n",
    "* Full sample\n",
    "* Added features derived from cross-sectional distributions within- and across-clusters\n",
    "* Score: 0.098\n",
    "\n",
    "Version 2:\n",
    "* LGBM\n",
    "* Full sample\n",
    "* Added features derived from cross-sectional distribution of features (no clustering)\n",
    "* Score: 0.098\n",
    "\n",
    "Version 3: \n",
    "* LGBM\n",
    "* Full sample\n",
    "* No derived features (only the 300 original)\n",
    "* Score: 0.098\n",
    "\n",
    "Version 4: \n",
    "* LGBM\n",
    "* Sample: `time_id` > 400\n",
    "* No derived features (only the 300 original)\n",
    "* Score: 0.092\n",
    "\n",
    "Version 5: \n",
    "* Neural net\n",
    "* Sample: full\n",
    "* No derived features (only the 300 original)\n",
    "* Score: 0.1075\n",
    "\n",
    "Version 6: \n",
    "* Ensemble: 50% LGBM and 50% DNN\n",
    "* Sample: full\n",
    "* No derived features (only the 300 original)\n",
    "* Score: 0.1108\n",
    "\n",
    "\n"
   ]
  },
  {
   "cell_type": "markdown",
   "id": "4d0c41b6",
   "metadata": {
    "papermill": {
     "duration": 0.008457,
     "end_time": "2022-03-25T23:18:28.397597",
     "exception": false,
     "start_time": "2022-03-25T23:18:28.389140",
     "status": "completed"
    },
    "tags": []
   },
   "source": [
    "# Submission"
   ]
  },
  {
   "cell_type": "code",
   "execution_count": 2,
   "id": "e383dc9d",
   "metadata": {
    "execution": {
     "iopub.execute_input": "2022-03-25T23:18:28.424896Z",
     "iopub.status.busy": "2022-03-25T23:18:28.423817Z",
     "iopub.status.idle": "2022-03-25T23:18:28.429208Z",
     "shell.execute_reply": "2022-03-25T23:18:28.428550Z",
     "shell.execute_reply.started": "2022-03-25T22:25:03.503833Z"
    },
    "papermill": {
     "duration": 0.023045,
     "end_time": "2022-03-25T23:18:28.429360",
     "exception": false,
     "start_time": "2022-03-25T23:18:28.406315",
     "status": "completed"
    },
    "tags": []
   },
   "outputs": [],
   "source": [
    "class Model(nn.Module):\n",
    "    def __init__(self, num_features):\n",
    "        super().__init__()\n",
    "\n",
    "        dropouts = [0.10, 0.10, 0.10, 0.10]\n",
    "        hidden_size = [512, 256, 128]\n",
    "        \n",
    "        layers = [nn.BatchNorm1d(num_features)]\n",
    "        in_size = num_features\n",
    "\n",
    "        for i in range(len(hidden_size)):\n",
    "            out_size = hidden_size[i]\n",
    "            layers.append(nn.Dropout(dropouts[i]))\n",
    "            layers.append(nn.Linear(in_size, out_size))\n",
    "            layers.append(nn.BatchNorm1d(out_size))\n",
    "            layers.append(nn.SiLU()) \n",
    "            in_size = out_size\n",
    "\n",
    "        layers.append(nn.Dropout(dropouts[-1]))\n",
    "        layers.append(nn.Linear(in_size, 1))\n",
    "        \n",
    "        self.model = torch.nn.Sequential(*layers)\n",
    "\n",
    "    def forward(self, cat, cont):\n",
    "        x = self.model(cont)\n",
    "        return x\n"
   ]
  },
  {
   "cell_type": "code",
   "execution_count": 3,
   "id": "f0fa281d",
   "metadata": {
    "execution": {
     "iopub.execute_input": "2022-03-25T23:18:28.451369Z",
     "iopub.status.busy": "2022-03-25T23:18:28.449763Z",
     "iopub.status.idle": "2022-03-25T23:18:31.141948Z",
     "shell.execute_reply": "2022-03-25T23:18:31.141158Z",
     "shell.execute_reply.started": "2022-03-25T22:25:03.519095Z"
    },
    "papermill": {
     "duration": 2.703782,
     "end_time": "2022-03-25T23:18:31.142121",
     "exception": false,
     "start_time": "2022-03-25T23:18:28.438339",
     "status": "completed"
    },
    "tags": []
   },
   "outputs": [
    {
     "data": {
      "text/html": [
       "<style type='text/css'>\n",
       ".datatable table.frame { margin-bottom: 0; }\n",
       ".datatable table.frame thead { border-bottom: none; }\n",
       ".datatable table.frame tr.coltypes td {  color: #FFFFFF;  line-height: 6px;  padding: 0 0.5em;}\n",
       ".datatable .bool    { background: #DDDD99; }\n",
       ".datatable .object  { background: #565656; }\n",
       ".datatable .int     { background: #5D9E5D; }\n",
       ".datatable .float   { background: #4040CC; }\n",
       ".datatable .str     { background: #CC4040; }\n",
       ".datatable .time    { background: #40CC40; }\n",
       ".datatable .row_index {  background: var(--jp-border-color3);  border-right: 1px solid var(--jp-border-color0);  color: var(--jp-ui-font-color3);  font-size: 9px;}\n",
       ".datatable .frame tbody td { text-align: left; }\n",
       ".datatable .frame tr.coltypes .row_index {  background: var(--jp-border-color0);}\n",
       ".datatable th:nth-child(2) { padding-left: 12px; }\n",
       ".datatable .hellipsis {  color: var(--jp-cell-editor-border-color);}\n",
       ".datatable .vellipsis {  background: var(--jp-layout-color0);  color: var(--jp-cell-editor-border-color);}\n",
       ".datatable .na {  color: var(--jp-cell-editor-border-color);  font-size: 80%;}\n",
       ".datatable .sp {  opacity: 0.25;}\n",
       ".datatable .footer { font-size: 9px; }\n",
       ".datatable .frame_dimensions {  background: var(--jp-border-color3);  border-top: 1px solid var(--jp-border-color0);  color: var(--jp-ui-font-color3);  display: inline-block;  opacity: 0.6;  padding: 1px 10px 1px 5px;}\n",
       "</style>\n"
      ],
      "text/plain": [
       "<IPython.core.display.HTML object>"
      ]
     },
     "metadata": {},
     "output_type": "display_data"
    }
   ],
   "source": [
    "nn_version = 1\n",
    "nn_model = pickle.load(open(f'../input/nnversion{nn_version}/NNresults{nn_version}.pkl', 'rb'))\n",
    "\n",
    "lgbm_version = 3\n",
    "lgbm_model, importance = pickle.load(open(f'../input/lgbm-version{lgbm_version}/lgbm_results{lgbm_version}.pkl', 'rb'))"
   ]
  },
  {
   "cell_type": "code",
   "execution_count": 4,
   "id": "ec186bda",
   "metadata": {
    "execution": {
     "iopub.execute_input": "2022-03-25T23:18:31.167015Z",
     "iopub.status.busy": "2022-03-25T23:18:31.166224Z",
     "iopub.status.idle": "2022-03-25T23:18:31.168920Z",
     "shell.execute_reply": "2022-03-25T23:18:31.169426Z"
    },
    "papermill": {
     "duration": 0.017758,
     "end_time": "2022-03-25T23:18:31.169624",
     "exception": false,
     "start_time": "2022-03-25T23:18:31.151866",
     "status": "completed"
    },
    "tags": []
   },
   "outputs": [],
   "source": [
    "def predict_lgbm(df, columns, model):\n",
    "    # For LGBM models, returns the prediction over columns in df\n",
    "    \n",
    "    return model.predict(df[columns])"
   ]
  },
  {
   "cell_type": "code",
   "execution_count": 5,
   "id": "88b72ea5",
   "metadata": {
    "execution": {
     "iopub.execute_input": "2022-03-25T23:18:31.198211Z",
     "iopub.status.busy": "2022-03-25T23:18:31.196960Z",
     "iopub.status.idle": "2022-03-25T23:18:31.199158Z",
     "shell.execute_reply": "2022-03-25T23:18:31.199855Z"
    },
    "papermill": {
     "duration": 0.019221,
     "end_time": "2022-03-25T23:18:31.200048",
     "exception": false,
     "start_time": "2022-03-25T23:18:31.180827",
     "status": "completed"
    },
    "tags": []
   },
   "outputs": [],
   "source": [
    "def predict_nn(df, columns, mod):\n",
    "    # Returns PyTorch predictions\n",
    "    \n",
    "    X_test = df.loc[:, columns].values\n",
    "    \n",
    "    pred_vector = (\n",
    "        mod(torch.tensor([]), torch.tensor(X_test, dtype=torch.float))\n",
    "             .detach()\n",
    "             .cpu()\n",
    "             .numpy()\n",
    "        )\n",
    "    \n",
    "    return pred_vector[:, 0]"
   ]
  },
  {
   "cell_type": "code",
   "execution_count": 6,
   "id": "00bfcb78",
   "metadata": {
    "_kg_hide-input": true,
    "_kg_hide-output": false,
    "execution": {
     "iopub.execute_input": "2022-03-25T23:18:31.223790Z",
     "iopub.status.busy": "2022-03-25T23:18:31.222754Z",
     "iopub.status.idle": "2022-03-25T23:18:31.441428Z",
     "shell.execute_reply": "2022-03-25T23:18:31.442070Z",
     "shell.execute_reply.started": "2022-03-23T21:05:36.44174Z"
    },
    "papermill": {
     "duration": 0.232022,
     "end_time": "2022-03-25T23:18:31.442271",
     "exception": false,
     "start_time": "2022-03-25T23:18:31.210249",
     "status": "completed"
    },
    "tags": []
   },
   "outputs": [
    {
     "name": "stdout",
     "output_type": "stream",
     "text": [
      "This version of the API is not optimized and should not be used to estimate the runtime of your code on the hidden test set.\n"
     ]
    }
   ],
   "source": [
    "import ubiquant\n",
    "\n",
    "env = ubiquant.make_env()   # initialize the environment\n",
    "iter_test = env.iter_test()    # an iterator which loops over the test set and sample submission\n",
    "\n",
    "for (test_df, sample_prediction_df) in iter_test:\n",
    "    \n",
    "    \n",
    "    \n",
    "    #transform(test_df) # generate derived features\n",
    "    \n",
    "    features         = [col for col in test_df if col.startswith('f_')]\n",
    "    #derived_features = [col for col in test_df if col.startswith('all')]\n",
    "    #cluster_features = [col for col in test_df if col.startswith('clust')]\n",
    "    \n",
    "    \n",
    "    test_df['target_lgbm'] = predict_lgbm(test_df, features, lgbm_model)\n",
    "    test_df['target_nn']   = predict_nn(  test_df, features, nn_model)\n",
    "    \n",
    "    test_df['target'] = test_df[['target_lgbm', 'target_nn']].mean(axis=1)\n",
    "    \n",
    "    env.predict(test_df[['row_id','target']])"
   ]
  }
 ],
 "metadata": {
  "kernelspec": {
   "display_name": "Python 3",
   "language": "python",
   "name": "python3"
  },
  "language_info": {
   "codemirror_mode": {
    "name": "ipython",
    "version": 3
   },
   "file_extension": ".py",
   "mimetype": "text/x-python",
   "name": "python",
   "nbconvert_exporter": "python",
   "pygments_lexer": "ipython3",
   "version": "3.7.12"
  },
  "papermill": {
   "default_parameters": {},
   "duration": 16.69403,
   "end_time": "2022-03-25T23:18:32.366044",
   "environment_variables": {},
   "exception": null,
   "input_path": "__notebook__.ipynb",
   "output_path": "__notebook__.ipynb",
   "parameters": {},
   "start_time": "2022-03-25T23:18:15.672014",
   "version": "2.3.3"
  }
 },
 "nbformat": 4,
 "nbformat_minor": 5
}
