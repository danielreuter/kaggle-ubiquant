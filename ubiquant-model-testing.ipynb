{
 "cells": [
  {
   "cell_type": "code",
   "execution_count": 1,
   "id": "7e3ab81a",
   "metadata": {
    "_cell_guid": "b1076dfc-b9ad-4769-8c92-a6c4dae69d19",
    "_uuid": "8f2839f25d086af736a60e9eeb907d3b93b6e0e5",
    "execution": {
     "iopub.execute_input": "2022-03-25T22:38:28.084464Z",
     "iopub.status.busy": "2022-03-25T22:38:28.083692Z",
     "iopub.status.idle": "2022-03-25T22:38:29.358169Z",
     "shell.execute_reply": "2022-03-25T22:38:29.356855Z",
     "shell.execute_reply.started": "2022-03-25T22:25:02.371246Z"
    },
    "papermill": {
     "duration": 1.295113,
     "end_time": "2022-03-25T22:38:29.358404",
     "exception": false,
     "start_time": "2022-03-25T22:38:28.063291",
     "status": "completed"
    },
    "tags": []
   },
   "outputs": [],
   "source": [
    "# This Python 3 environment comes with many helpful analytics libraries installed\n",
    "# It is defined by the kaggle/python Docker image: https://github.com/kaggle/docker-python\n",
    "# For example, here's several helpful packages to load\n",
    "\n",
    "import numpy as np # linear algebra\n",
    "import pandas as pd # data processing, CSV file I/O (e.g. pd.read_csv)\n",
    "import pickle\n",
    "import torch\n",
    "\n",
    "import torch\n",
    "import torch.nn as nn"
   ]
  },
  {
   "cell_type": "markdown",
   "id": "7c40c6cc",
   "metadata": {
    "papermill": {
     "duration": 0.008164,
     "end_time": "2022-03-25T22:38:29.376727",
     "exception": false,
     "start_time": "2022-03-25T22:38:29.368563",
     "status": "completed"
    },
    "tags": []
   },
   "source": [
    "# Models\n",
    "\n",
    "Version 1:\n",
    "* LGBM\n",
    "* Full sample\n",
    "* Added features derived from cross-sectional distributions within- and across-clusters\n",
    "* Score: 0.098\n",
    "\n",
    "Version 2:\n",
    "* LGBM\n",
    "* Full sample\n",
    "* Added features derived from cross-sectional distribution of features (no clustering)\n",
    "* Score: 0.098\n",
    "\n",
    "Version 3: \n",
    "* LGBM\n",
    "* Full sample\n",
    "* No derived features (only the 300 original)\n",
    "* Score: 0.098\n",
    "\n",
    "Version 4: \n",
    "* LGBM\n",
    "* Sample: `time_id` > 400\n",
    "* No derived features (only the 300 original)\n",
    "* Score: 0.092\n",
    "\n",
    "Version 5: \n",
    "* Neural net\n",
    "* Sample: full\n",
    "* No derived features (only the 300 original)\n",
    "* Score: 0.1075\n",
    "\n",
    "Version 6: \n",
    "* Ensemble: 50% LGBM and 50% DNN\n",
    "* Sample: full\n",
    "* No derived features (only the 300 original)\n",
    "* Score: 0.1108\n",
    "\n",
    "\n"
   ]
  },
  {
   "cell_type": "markdown",
   "id": "759113d1",
   "metadata": {
    "papermill": {
     "duration": 0.008114,
     "end_time": "2022-03-25T22:38:29.393224",
     "exception": false,
     "start_time": "2022-03-25T22:38:29.385110",
     "status": "completed"
    },
    "tags": []
   },
   "source": [
    "# Submission"
   ]
  },
  {
   "cell_type": "code",
   "execution_count": 2,
   "id": "4a17841a",
   "metadata": {
    "execution": {
     "iopub.execute_input": "2022-03-25T22:38:29.420659Z",
     "iopub.status.busy": "2022-03-25T22:38:29.419935Z",
     "iopub.status.idle": "2022-03-25T22:38:29.421916Z",
     "shell.execute_reply": "2022-03-25T22:38:29.422411Z",
     "shell.execute_reply.started": "2022-03-25T22:25:03.503833Z"
    },
    "papermill": {
     "duration": 0.021017,
     "end_time": "2022-03-25T22:38:29.422587",
     "exception": false,
     "start_time": "2022-03-25T22:38:29.401570",
     "status": "completed"
    },
    "tags": []
   },
   "outputs": [],
   "source": [
    "class Model(nn.Module):\n",
    "    def __init__(self, num_features):\n",
    "        super().__init__()\n",
    "\n",
    "        dropouts = [0.10, 0.10, 0.10, 0.10]\n",
    "        hidden_size = [512, 256, 128]\n",
    "        \n",
    "        layers = [nn.BatchNorm1d(num_features)]\n",
    "        in_size = num_features\n",
    "\n",
    "        for i in range(len(hidden_size)):\n",
    "            out_size = hidden_size[i]\n",
    "            layers.append(nn.Dropout(dropouts[i]))\n",
    "            layers.append(nn.Linear(in_size, out_size))\n",
    "            layers.append(nn.BatchNorm1d(out_size))\n",
    "            layers.append(nn.SiLU()) \n",
    "            in_size = out_size\n",
    "\n",
    "        layers.append(nn.Dropout(dropouts[-1]))\n",
    "        layers.append(nn.Linear(in_size, 1))\n",
    "        \n",
    "        self.model = torch.nn.Sequential(*layers)\n",
    "\n",
    "    def forward(self, cat, cont):\n",
    "        x = self.model(cont)\n",
    "        return x\n"
   ]
  },
  {
   "cell_type": "code",
   "execution_count": 3,
   "id": "00c8bf69",
   "metadata": {
    "execution": {
     "iopub.execute_input": "2022-03-25T22:38:29.444896Z",
     "iopub.status.busy": "2022-03-25T22:38:29.444116Z",
     "iopub.status.idle": "2022-03-25T22:38:32.012252Z",
     "shell.execute_reply": "2022-03-25T22:38:32.011571Z",
     "shell.execute_reply.started": "2022-03-25T22:25:03.519095Z"
    },
    "papermill": {
     "duration": 2.581375,
     "end_time": "2022-03-25T22:38:32.012403",
     "exception": false,
     "start_time": "2022-03-25T22:38:29.431028",
     "status": "completed"
    },
    "tags": []
   },
   "outputs": [
    {
     "data": {
      "text/html": [
       "<style type='text/css'>\n",
       ".datatable table.frame { margin-bottom: 0; }\n",
       ".datatable table.frame thead { border-bottom: none; }\n",
       ".datatable table.frame tr.coltypes td {  color: #FFFFFF;  line-height: 6px;  padding: 0 0.5em;}\n",
       ".datatable .bool    { background: #DDDD99; }\n",
       ".datatable .object  { background: #565656; }\n",
       ".datatable .int     { background: #5D9E5D; }\n",
       ".datatable .float   { background: #4040CC; }\n",
       ".datatable .str     { background: #CC4040; }\n",
       ".datatable .time    { background: #40CC40; }\n",
       ".datatable .row_index {  background: var(--jp-border-color3);  border-right: 1px solid var(--jp-border-color0);  color: var(--jp-ui-font-color3);  font-size: 9px;}\n",
       ".datatable .frame tbody td { text-align: left; }\n",
       ".datatable .frame tr.coltypes .row_index {  background: var(--jp-border-color0);}\n",
       ".datatable th:nth-child(2) { padding-left: 12px; }\n",
       ".datatable .hellipsis {  color: var(--jp-cell-editor-border-color);}\n",
       ".datatable .vellipsis {  background: var(--jp-layout-color0);  color: var(--jp-cell-editor-border-color);}\n",
       ".datatable .na {  color: var(--jp-cell-editor-border-color);  font-size: 80%;}\n",
       ".datatable .sp {  opacity: 0.25;}\n",
       ".datatable .footer { font-size: 9px; }\n",
       ".datatable .frame_dimensions {  background: var(--jp-border-color3);  border-top: 1px solid var(--jp-border-color0);  color: var(--jp-ui-font-color3);  display: inline-block;  opacity: 0.6;  padding: 1px 10px 1px 5px;}\n",
       "</style>\n"
      ],
      "text/plain": [
       "<IPython.core.display.HTML object>"
      ]
     },
     "metadata": {},
     "output_type": "display_data"
    }
   ],
   "source": [
    "nn_version = 1\n",
    "nn_model = pickle.load(open(f'../input/nnversion{nn_version}/NNresults{nn_version}.pkl', 'rb'))\n",
    "\n",
    "lgbm_version = 3\n",
    "lgbm_model, importance = pickle.load(open(f'../input/lgbm-version{lgbm_version}/lgbm_results{lgbm_version}.pkl', 'rb'))"
   ]
  },
  {
   "cell_type": "code",
   "execution_count": 4,
   "id": "80ce3769",
   "metadata": {
    "execution": {
     "iopub.execute_input": "2022-03-25T22:38:32.037283Z",
     "iopub.status.busy": "2022-03-25T22:38:32.036388Z",
     "iopub.status.idle": "2022-03-25T22:38:32.039432Z",
     "shell.execute_reply": "2022-03-25T22:38:32.038830Z"
    },
    "papermill": {
     "duration": 0.016869,
     "end_time": "2022-03-25T22:38:32.039580",
     "exception": false,
     "start_time": "2022-03-25T22:38:32.022711",
     "status": "completed"
    },
    "tags": []
   },
   "outputs": [],
   "source": [
    "def predict_lgbm(df, columns, model):\n",
    "    # For LGBM models, returns the prediction over columns in df\n",
    "    \n",
    "    return model.predict(df[columns])"
   ]
  },
  {
   "cell_type": "code",
   "execution_count": 5,
   "id": "d46f32e3",
   "metadata": {
    "execution": {
     "iopub.execute_input": "2022-03-25T22:38:32.066081Z",
     "iopub.status.busy": "2022-03-25T22:38:32.065261Z",
     "iopub.status.idle": "2022-03-25T22:38:32.068843Z",
     "shell.execute_reply": "2022-03-25T22:38:32.068281Z"
    },
    "papermill": {
     "duration": 0.019936,
     "end_time": "2022-03-25T22:38:32.068983",
     "exception": false,
     "start_time": "2022-03-25T22:38:32.049047",
     "status": "completed"
    },
    "tags": []
   },
   "outputs": [],
   "source": [
    "def predict_nn(df, columns, mod):\n",
    "    # Returns PyTorch predictions\n",
    "    \n",
    "    X_test = df.loc[:, columns].values\n",
    "    \n",
    "    pred_vector = (\n",
    "        mod(torch.tensor([]), torch.tensor(X_test, dtype=torch.float))\n",
    "             .detach()\n",
    "             .cpu()\n",
    "             .numpy()\n",
    "        )\n",
    "    \n",
    "    return pred_vector[:, 0]"
   ]
  },
  {
   "cell_type": "code",
   "execution_count": 6,
   "id": "882e9a72",
   "metadata": {
    "_kg_hide-input": true,
    "_kg_hide-output": false,
    "execution": {
     "iopub.execute_input": "2022-03-25T22:38:32.097241Z",
     "iopub.status.busy": "2022-03-25T22:38:32.096464Z",
     "iopub.status.idle": "2022-03-25T22:38:32.303260Z",
     "shell.execute_reply": "2022-03-25T22:38:32.302651Z",
     "shell.execute_reply.started": "2022-03-23T21:05:36.44174Z"
    },
    "papermill": {
     "duration": 0.224149,
     "end_time": "2022-03-25T22:38:32.303407",
     "exception": false,
     "start_time": "2022-03-25T22:38:32.079258",
     "status": "completed"
    },
    "tags": []
   },
   "outputs": [
    {
     "name": "stdout",
     "output_type": "stream",
     "text": [
      "This version of the API is not optimized and should not be used to estimate the runtime of your code on the hidden test set.\n"
     ]
    }
   ],
   "source": [
    "import ubiquant\n",
    "\n",
    "env = ubiquant.make_env()   # initialize the environment\n",
    "iter_test = env.iter_test()    # an iterator which loops over the test set and sample submission\n",
    "\n",
    "for (test_df, sample_prediction_df) in iter_test:\n",
    "    \n",
    "    \n",
    "    \n",
    "    #transform(test_df) # generate derived features\n",
    "    \n",
    "    features         = [col for col in test_df if col.startswith('f_')]\n",
    "    #derived_features = [col for col in test_df if col.startswith('all')]\n",
    "    #cluster_features = [col for col in test_df if col.startswith('clust')]\n",
    "    \n",
    "    \n",
    "    test_df['target_lgbm'] = predict_lgbm(test_df, features, lgbm_model)\n",
    "    test_df['target_nn']   = predict_nn(  test_df, features, nn_model)\n",
    "    \n",
    "    test_df['target'] = test_df[['target_lgbm', 'target_nn']].mean(axis=1)\n",
    "    \n",
    "    env.predict(test_df[['row_id','target']])"
   ]
  }
 ],
 "metadata": {
  "kernelspec": {
   "display_name": "Python 3",
   "language": "python",
   "name": "python3"
  },
  "language_info": {
   "codemirror_mode": {
    "name": "ipython",
    "version": 3
   },
   "file_extension": ".py",
   "mimetype": "text/x-python",
   "name": "python",
   "nbconvert_exporter": "python",
   "pygments_lexer": "ipython3",
   "version": "3.7.12"
  },
  "papermill": {
   "default_parameters": {},
   "duration": 15.433943,
   "end_time": "2022-03-25T22:38:33.224743",
   "environment_variables": {},
   "exception": null,
   "input_path": "__notebook__.ipynb",
   "output_path": "__notebook__.ipynb",
   "parameters": {},
   "start_time": "2022-03-25T22:38:17.790800",
   "version": "2.3.3"
  }
 },
 "nbformat": 4,
 "nbformat_minor": 5
}
